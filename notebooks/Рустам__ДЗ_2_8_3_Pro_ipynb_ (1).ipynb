{
  "cells": [
    {
      "cell_type": "markdown",
      "metadata": {
        "id": "MH-3kVwvJYeP"
      },
      "source": [
        "# 2.8.3 Объектно-ориентированное программирование как ключевой элемент языка Python"
      ]
    },
    {
      "cell_type": "markdown",
      "metadata": {
        "id": "WS0TXJkOD_Q6"
      },
      "source": [
        "## Задание 1"
      ]
    },
    {
      "cell_type": "markdown",
      "metadata": {
        "id": "vnaW1OUnD_RA"
      },
      "source": [
        "**Условие:** Для класса ```Department``` из задания к занятию 2.8.2 установите все родительские классы. Установите к каким классам относятся атрибуты данных и методы указанного класса.\n"
      ]
    },
    {
      "cell_type": "markdown",
      "metadata": {
        "id": "fgXudiR7D_RC"
      },
      "source": [
        "**Решение:**"
      ]
    },
    {
      "cell_type": "code",
      "execution_count": 1,
      "metadata": {
        "id": "d3EG8Yu9D_RF",
        "colab": {
          "base_uri": "https://localhost:8080/"
        },
        "outputId": "faa73a41-d279-4079-8c78-f0aedad9eebc"
      },
      "outputs": [
        {
          "output_type": "stream",
          "name": "stdout",
          "text": [
            "Родительские классы для Department:\n",
            "Department --> object\n",
            "\n",
            "Атрибуты данных и методы класса Department:\n",
            "Атрибут: __module__\n",
            "Метод: __init__\n",
            "Метод: add_employee\n",
            "Метод: list_employees\n",
            "Атрибут: __dict__\n",
            "Атрибут: __weakref__\n",
            "Атрибут: __doc__\n"
          ]
        }
      ],
      "source": [
        "class Department:\n",
        "    def __init__(self, name, manager):\n",
        "        self.name = name\n",
        "        self.manager = manager\n",
        "        self.employees = []\n",
        "\n",
        "    def add_employee(self, employee):\n",
        "        self.employees.append(employee)\n",
        "\n",
        "    def list_employees(self):\n",
        "        for employee in self.employees:\n",
        "            print(employee)\n",
        "\n",
        "# Устанавливаем родительские классы для Department\n",
        "mro = Department.mro()\n",
        "mro_names = [cls.__name__ for cls in mro if hasattr(cls, '__name__')]\n",
        "\n",
        "print(f\"Родительские классы для Department:\")\n",
        "print(\" --> \".join(mro_names))\n",
        "\n",
        "# Определяем к каким классам относятся атрибуты данных и методы\n",
        "print(\"\\nАтрибуты данных и методы класса Department:\")\n",
        "for attr_name, attr_value in Department.__dict__.items():\n",
        "    if callable(attr_value):\n",
        "        print(f\"Метод: {attr_name}\")\n",
        "    else:\n",
        "        print(f\"Атрибут: {attr_name}\")\n"
      ]
    }
  ],
  "metadata": {
    "colab": {
      "provenance": []
    },
    "kernelspec": {
      "display_name": "Python 3 (ipykernel)",
      "language": "python",
      "name": "python3"
    },
    "language_info": {
      "codemirror_mode": {
        "name": "ipython",
        "version": 3
      },
      "file_extension": ".py",
      "mimetype": "text/x-python",
      "name": "python",
      "nbconvert_exporter": "python",
      "pygments_lexer": "ipython3",
      "version": "3.11.7"
    }
  },
  "nbformat": 4,
  "nbformat_minor": 0
}
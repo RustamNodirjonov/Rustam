{
  "cells": [
    {
      "cell_type": "markdown",
      "metadata": {
        "id": "MH-3kVwvJYeP"
      },
      "source": [
        "# 2.5.1 Основы написания функций"
      ]
    },
    {
      "cell_type": "markdown",
      "metadata": {
        "id": "gMwyKhlQJ1mf"
      },
      "source": [
        "## Задание 1"
      ]
    },
    {
      "cell_type": "markdown",
      "metadata": {
        "id": "Owu684lKKrjJ"
      },
      "source": [
        "**Условие:**\n",
        "Напишите функцию ```multi_mean()```, которая может принимать на вход любое количество чисел и возвращает кортеж различных средних значений (среднее арифметическое, среднее геометрическое, среднее гармоническое). В ответе укажите результат работы функции для ```multi_mean(1.74, 2, 18, 24)```.\n",
        "\n",
        "**Формат ответа:**\n",
        "Кортеж чисел (например, ```(25.4, 8.2, 3.5)```)"
      ]
    },
    {
      "cell_type": "markdown",
      "metadata": {
        "id": "OCTvo3fHLaaJ"
      },
      "source": [
        "**Решение:**"
      ]
    },
    {
      "cell_type": "code",
      "execution_count": 1,
      "metadata": {
        "colab": {
          "base_uri": "https://localhost:8080/",
          "height": 315
        },
        "id": "f9_8IGndLeRO",
        "outputId": "249e464b-f8a2-44c5-8be9-56c7afd8025b"
      },
      "outputs": [
        {
          "output_type": "error",
          "ename": "NameError",
          "evalue": "name 'prod' is not defined",
          "traceback": [
            "\u001b[0;31m---------------------------------------------------------------------------\u001b[0m",
            "\u001b[0;31mNameError\u001b[0m                                 Traceback (most recent call last)",
            "\u001b[0;32m<ipython-input-1-0878c779cd54>\u001b[0m in \u001b[0;36m<cell line: 14>\u001b[0;34m()\u001b[0m\n\u001b[1;32m     12\u001b[0m     \u001b[0;32mreturn\u001b[0m \u001b[0marith_mean\u001b[0m\u001b[0;34m,\u001b[0m \u001b[0mgeom_mean\u001b[0m\u001b[0;34m,\u001b[0m \u001b[0mharm_mean\u001b[0m\u001b[0;34m\u001b[0m\u001b[0;34m\u001b[0m\u001b[0m\n\u001b[1;32m     13\u001b[0m \u001b[0;34m\u001b[0m\u001b[0m\n\u001b[0;32m---> 14\u001b[0;31m \u001b[0mresult\u001b[0m \u001b[0;34m=\u001b[0m \u001b[0mmulti_mean\u001b[0m\u001b[0;34m(\u001b[0m\u001b[0;36m1.74\u001b[0m\u001b[0;34m,\u001b[0m \u001b[0;36m2\u001b[0m\u001b[0;34m,\u001b[0m \u001b[0;36m18\u001b[0m\u001b[0;34m,\u001b[0m \u001b[0;36m24\u001b[0m\u001b[0;34m)\u001b[0m\u001b[0;34m\u001b[0m\u001b[0;34m\u001b[0m\u001b[0m\n\u001b[0m\u001b[1;32m     15\u001b[0m \u001b[0mprint\u001b[0m\u001b[0;34m(\u001b[0m\u001b[0mresult\u001b[0m\u001b[0;34m)\u001b[0m\u001b[0;34m\u001b[0m\u001b[0;34m\u001b[0m\u001b[0m\n",
            "\u001b[0;32m<ipython-input-1-0878c779cd54>\u001b[0m in \u001b[0;36mmulti_mean\u001b[0;34m(*args)\u001b[0m\n\u001b[1;32m      7\u001b[0m \u001b[0;34m\u001b[0m\u001b[0m\n\u001b[1;32m      8\u001b[0m     \u001b[0marith_mean\u001b[0m \u001b[0;34m=\u001b[0m \u001b[0msum\u001b[0m\u001b[0;34m(\u001b[0m\u001b[0margs\u001b[0m\u001b[0;34m)\u001b[0m \u001b[0;34m/\u001b[0m \u001b[0mlen\u001b[0m\u001b[0;34m(\u001b[0m\u001b[0margs\u001b[0m\u001b[0;34m)\u001b[0m\u001b[0;34m\u001b[0m\u001b[0;34m\u001b[0m\u001b[0m\n\u001b[0;32m----> 9\u001b[0;31m     \u001b[0mgeom_mean\u001b[0m \u001b[0;34m=\u001b[0m \u001b[0;34m(\u001b[0m\u001b[0;36m1\u001b[0m \u001b[0;34m/\u001b[0m \u001b[0mlen\u001b[0m\u001b[0;34m(\u001b[0m\u001b[0margs\u001b[0m\u001b[0;34m)\u001b[0m\u001b[0;34m)\u001b[0m \u001b[0;34m*\u001b[0m \u001b[0mpow\u001b[0m\u001b[0;34m(\u001b[0m\u001b[0;34m(\u001b[0m\u001b[0mprod\u001b[0m\u001b[0;34m(\u001b[0m\u001b[0;34m*\u001b[0m\u001b[0margs\u001b[0m\u001b[0;34m)\u001b[0m\u001b[0;34m[\u001b[0m\u001b[0;36m0\u001b[0m\u001b[0;34m]\u001b[0m\u001b[0;34m)\u001b[0m\u001b[0;34m,\u001b[0m \u001b[0;34m(\u001b[0m\u001b[0;36m1\u001b[0m \u001b[0;34m/\u001b[0m \u001b[0mlen\u001b[0m\u001b[0;34m(\u001b[0m\u001b[0margs\u001b[0m\u001b[0;34m)\u001b[0m\u001b[0;34m)\u001b[0m\u001b[0;34m)\u001b[0m\u001b[0;34m\u001b[0m\u001b[0;34m\u001b[0m\u001b[0m\n\u001b[0m\u001b[1;32m     10\u001b[0m     \u001b[0mharm_mean\u001b[0m \u001b[0;34m=\u001b[0m \u001b[0mlen\u001b[0m\u001b[0;34m(\u001b[0m\u001b[0margs\u001b[0m\u001b[0;34m)\u001b[0m \u001b[0;34m/\u001b[0m \u001b[0msum\u001b[0m\u001b[0;34m(\u001b[0m\u001b[0;34m[\u001b[0m\u001b[0;36m1\u001b[0m\u001b[0;34m/\u001b[0m\u001b[0mx\u001b[0m \u001b[0;32mfor\u001b[0m \u001b[0mx\u001b[0m \u001b[0;32min\u001b[0m \u001b[0margs\u001b[0m\u001b[0;34m]\u001b[0m\u001b[0;34m)\u001b[0m\u001b[0;34m\u001b[0m\u001b[0;34m\u001b[0m\u001b[0m\n\u001b[1;32m     11\u001b[0m \u001b[0;34m\u001b[0m\u001b[0m\n",
            "\u001b[0;31mNameError\u001b[0m: name 'prod' is not defined"
          ]
        }
      ],
      "source": [
        "from math import sqrt\n",
        "\n",
        "def multi_mean(*args):\n",
        "    \"\"\"\n",
        "    Функция принимает на вход любое количество чисел и возвращает кортеж различных средних значений (среднее арифметическое, среднее геометрическое, среднее гармоническое).\n",
        "    \"\"\"\n",
        "\n",
        "    arith_mean = sum(args) / len(args)\n",
        "    geom_mean = (1 / len(args)) * pow((prod(*args)[0]), (1 / len(args)))\n",
        "    harm_mean = len(args) / sum([1/x for x in args])\n",
        "\n",
        "    return arith_mean, geom_mean, harm_mean\n",
        "\n",
        "result = multi_mean(1.74, 2, 18, 24)\n",
        "print(result)\n"
      ]
    },
    {
      "cell_type": "markdown",
      "metadata": {
        "id": "po9IAGLrN40v"
      },
      "source": [
        "## Задание 2"
      ]
    },
    {
      "cell_type": "markdown",
      "metadata": {
        "id": "d1a0uN6YN41B"
      },
      "source": [
        "**Условие:**\n",
        "Напишите функцию, которая принимает на вход в виде именованных переменных длины сторон параллелепипеда и возвращает кортеж значений (площадь параллелепипеда, объем параллелепипеда). Напишите строку документации для данной функции. В ответе укажите результат работы функции для длин сторон ```2,12,6```.\n",
        "\n",
        "**Формат ответа:**\n",
        "Кортеж чисел (например, ```(25.4, 8.2)```)"
      ]
    },
    {
      "cell_type": "markdown",
      "metadata": {
        "id": "iWPZadMmN41H"
      },
      "source": [
        "**Решение:**"
      ]
    },
    {
      "cell_type": "code",
      "execution_count": 2,
      "metadata": {
        "colab": {
          "base_uri": "https://localhost:8080/"
        },
        "id": "woFKze5xN41M",
        "outputId": "9ecc5516-5708-41d0-862f-e1398e51d357"
      },
      "outputs": [
        {
          "output_type": "stream",
          "name": "stdout",
          "text": [
            "(216, 144)\n"
          ]
        }
      ],
      "source": [
        "def parallelepiped_properties(**kwargs):\n",
        "    \"\"\"\n",
        "    Функция принимает длины сторон параллелепипеда в виде именованных переменных и возвращает кортеж значений (площадь параллелепипеда, объем параллелепипеда).\n",
        "\n",
        "    Пример использования:\n",
        "    result = parallelepiped_properties(a=2, b=12, c=6)\n",
        "    print(result)  # (264, 144)\n",
        "    \"\"\"\n",
        "\n",
        "    a = kwargs.get('a', 0)\n",
        "    b = kwargs.get('b', 0)\n",
        "    c = kwargs.get('c', 0)\n",
        "\n",
        "    area = 2 * (a*b + b*c + a*c)\n",
        "    volume = a * b * c\n",
        "\n",
        "    return area, volume\n",
        "\n",
        "result = parallelepiped_properties(a=2, b=12, c=6)\n",
        "print(result)\n"
      ]
    },
    {
      "cell_type": "markdown",
      "metadata": {
        "id": "ZuoZQfnXPWcB"
      },
      "source": [
        "## Задание 3"
      ]
    },
    {
      "cell_type": "markdown",
      "metadata": {
        "id": "CCiiVIVzPWcF"
      },
      "source": [
        "**Условие:**\n",
        "Напишите функцию подсчета факториала числа. Найдите значение ```12!```.\n",
        "\n",
        "**Формат ответа:**\n",
        "Число (например, ```1235```)\n"
      ]
    },
    {
      "cell_type": "markdown",
      "metadata": {
        "id": "Flg_SH_8PWcJ"
      },
      "source": [
        "**Решение:**"
      ]
    },
    {
      "cell_type": "code",
      "execution_count": 3,
      "metadata": {
        "colab": {
          "base_uri": "https://localhost:8080/"
        },
        "id": "OqMIG3a9PWcM",
        "outputId": "ca7c17e2-8267-4db4-8cea-c3fc610cf24f"
      },
      "outputs": [
        {
          "output_type": "stream",
          "name": "stdout",
          "text": [
            "479001600\n"
          ]
        }
      ],
      "source": [
        "def factorial(n):\n",
        "    if n == 0:\n",
        "        return 1\n",
        "    else:\n",
        "        return n * factorial(n-1)\n",
        "\n",
        "result = factorial(12)\n",
        "print(result)\n"
      ]
    }
  ],
  "metadata": {
    "colab": {
      "provenance": []
    },
    "kernelspec": {
      "display_name": "Python 3 (ipykernel)",
      "language": "python",
      "name": "python3"
    },
    "language_info": {
      "codemirror_mode": {
        "name": "ipython",
        "version": 3
      },
      "file_extension": ".py",
      "mimetype": "text/x-python",
      "name": "python",
      "nbconvert_exporter": "python",
      "pygments_lexer": "ipython3",
      "version": "3.11.7"
    }
  },
  "nbformat": 4,
  "nbformat_minor": 0
}
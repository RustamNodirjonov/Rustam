{
  "cells": [
    {
      "cell_type": "markdown",
      "metadata": {
        "id": "MH-3kVwvJYeP"
      },
      "source": [
        "# 2.3 Типы коллекций. Последовательности, множества, отображения"
      ]
    },
    {
      "cell_type": "markdown",
      "metadata": {
        "id": "gMwyKhlQJ1mf"
      },
      "source": [
        "## Задание 1"
      ]
    },
    {
      "cell_type": "markdown",
      "metadata": {
        "id": "Owu684lKKrjJ"
      },
      "source": [
        "**Условие:**\n",
        "Создайте кортеж из ```10```  произвольных значений. Выведите элементы кортежа по целым положительным индексам и по целым отрицательным индексам.\n"
      ]
    },
    {
      "cell_type": "markdown",
      "metadata": {
        "id": "OCTvo3fHLaaJ"
      },
      "source": [
        "**Решение:**"
      ]
    },
    {
      "cell_type": "code",
      "execution_count": 1,
      "metadata": {
        "colab": {
          "base_uri": "https://localhost:8080/"
        },
        "id": "f9_8IGndLeRO",
        "outputId": "e6820c89-95fc-47e0-b7fc-32ac6a88bf28"
      },
      "outputs": [
        {
          "output_type": "stream",
          "name": "stdout",
          "text": [
            "Позитивный индекс: 0: -35\n",
            "Позитивный индекс: 1: 24\n",
            "Позитивный индекс: 2: 45\n",
            "Позитивный индекс: 3: -83\n",
            "Позитивный индекс: 4: 52\n",
            "Позитивный индекс: 5: -28\n",
            "Позитивный индекс: 6: -29\n",
            "Позитивный индекс: 7: 89\n",
            "Позитивный индекс: 8: -43\n",
            "Позитивный индекс: 9: -26\n",
            "Отрицательный индекс: -10: -35\n",
            "Отрицательный индекс: -9: 24\n",
            "Отрицательный индекс: -8: 45\n",
            "Отрицательный индекс: -7: -83\n",
            "Отрицательный индекс: -6: 52\n",
            "Отрицательный индекс: -5: -28\n",
            "Отрицательный индекс: -4: -29\n",
            "Отрицательный индекс: -3: 89\n",
            "Отрицательный индекс: -2: -43\n",
            "Отрицательный индекс: -1: -26\n"
          ]
        }
      ],
      "source": [
        "import random\n",
        "\n",
        "# Создаем кортеж из 10 произвольных значений\n",
        "values = tuple(random.randint(-100, 100) for _ in range(10))\n",
        "\n",
        "# Выводим элементы кортежа по положительным индексам\n",
        "for i in range(len(values)):\n",
        "    print(f\"Позитивный индекс: {i}: {values[i]}\")\n",
        "\n",
        "# Выводим элементы кортежа по отрицательным индексам\n",
        "for i in range(len(values) - 1, -1, -1):\n",
        "    print(f\"Отрицательный индекс: {-i - 1}: {values[-i - 1]}\")\n"
      ]
    },
    {
      "cell_type": "markdown",
      "metadata": {
        "id": "g5S0h2-wKfGE"
      },
      "source": [
        "## Задание 2"
      ]
    },
    {
      "cell_type": "markdown",
      "metadata": {
        "id": "orX7BUzcPKKf"
      },
      "source": [
        "**Условие:**\n",
        "Создайте список из ```10``` последовательных чисел. Прибавьте ```1``` к значениям списка, проходя по нему в цикле."
      ]
    },
    {
      "cell_type": "markdown",
      "metadata": {
        "id": "ESSLfwqEPKKn"
      },
      "source": [
        "**Решение:**"
      ]
    },
    {
      "cell_type": "code",
      "execution_count": 2,
      "metadata": {
        "colab": {
          "base_uri": "https://localhost:8080/"
        },
        "id": "y8HOlaNLPKKq",
        "outputId": "efbee93d-1fd6-4ad1-9930-fe163c1123f2"
      },
      "outputs": [
        {
          "output_type": "stream",
          "name": "stdout",
          "text": [
            "[2, 3, 4, 5, 6, 7, 8, 9, 10, 11]\n"
          ]
        }
      ],
      "source": [
        "numbers = list(range(1, 11))  # Создаем список из 10 последовательных чисел от 1 до 10\n",
        "\n",
        "for i in range(len(numbers)):\n",
        "    numbers[i] += 1  # Прибавляем 1 к каждому элементу списка\n",
        "\n",
        "print(numbers)  # Выводим измененный список\n"
      ]
    },
    {
      "cell_type": "markdown",
      "metadata": {
        "id": "tq0Fcrg1KfXQ"
      },
      "source": [
        "## Задание 3"
      ]
    },
    {
      "cell_type": "markdown",
      "metadata": {
        "id": "3xp-jyyHPMIb"
      },
      "source": [
        "**Условие:**\n",
        "Создайте словарь из ```5``` сотрудников, где ключ - это имя сотрудника, а значение - его заработная плата.\n"
      ]
    },
    {
      "cell_type": "markdown",
      "metadata": {
        "id": "H5ZlBsI2PMIi"
      },
      "source": [
        "**Решение:**"
      ]
    },
    {
      "cell_type": "code",
      "execution_count": 3,
      "metadata": {
        "colab": {
          "base_uri": "https://localhost:8080/"
        },
        "id": "6amsYUCoPMIn",
        "outputId": "b0425a69-c649-4830-8870-950977b3fdc1"
      },
      "outputs": [
        {
          "output_type": "stream",
          "name": "stdout",
          "text": [
            "{'Алексей': 100000, 'Иван': 80000, 'Мария': 70000, 'Светлана': 60000, 'Яков': 50000}\n"
          ]
        }
      ],
      "source": [
        "employees = {\n",
        "    \"Алексей\": 100000,\n",
        "    \"Иван\": 80000,\n",
        "    \"Мария\": 70000,\n",
        "    \"Светлана\": 60000,\n",
        "    \"Яков\": 50000\n",
        "}\n",
        "\n",
        "print(employees)\n"
      ]
    }
  ],
  "metadata": {
    "colab": {
      "provenance": []
    },
    "kernelspec": {
      "display_name": "Python 3 (ipykernel)",
      "language": "python",
      "name": "python3"
    },
    "language_info": {
      "codemirror_mode": {
        "name": "ipython",
        "version": 3
      },
      "file_extension": ".py",
      "mimetype": "text/x-python",
      "name": "python",
      "nbconvert_exporter": "python",
      "pygments_lexer": "ipython3",
      "version": "3.11.7"
    }
  },
  "nbformat": 4,
  "nbformat_minor": 0
}
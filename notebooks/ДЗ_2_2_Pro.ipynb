{
  "cells": [
    {
      "cell_type": "markdown",
      "metadata": {
        "id": "MH-3kVwvJYeP"
      },
      "source": [
        "\n",
        "# 2.2 Типы данных. Идентификаторы и ключевые слова. Целочисленные типы и числа с плавающей запятой. Строки"
      ]
    },
    {
      "cell_type": "markdown",
      "metadata": {
        "id": "gMwyKhlQJ1mf"
      },
      "source": [
        "## Задание 1"
      ]
    },
    {
      "cell_type": "markdown",
      "metadata": {
        "id": "Owu684lKKrjJ"
      },
      "source": [
        "**Условие:**\n",
        "Напишите функцию, получающую на вход целое положительное десятичное число и выводящую на экран его двоичное, восьмеричное и шестнадцатеричное представления. Что выдаст функция при подаче на вход числа ```124124234```.\n",
        "\n",
        "**Формат ответа:**\n",
        "Кортеж (например, ```(0b1000101,0o45312234,0xAFBBB012)```)\n"
      ]
    },
    {
      "cell_type": "markdown",
      "metadata": {
        "id": "OCTvo3fHLaaJ"
      },
      "source": [
        "**Решение:**"
      ]
    },
    {
      "cell_type": "code",
      "execution_count": 1,
      "metadata": {
        "colab": {
          "base_uri": "https://localhost:8080/"
        },
        "id": "f9_8IGndLeRO",
        "outputId": "007cd17b-12e0-4c6c-f0f9-c823e0f030fd"
      },
      "outputs": [
        {
          "output_type": "execute_result",
          "data": {
            "text/plain": [
              "2948313106"
            ]
          },
          "metadata": {},
          "execution_count": 1
        }
      ],
      "source": [
        "0b1000101000101000101000101\n",
        "0o45312234\n",
        "0xAFBBB012\n"
      ]
    },
    {
      "cell_type": "markdown",
      "metadata": {
        "id": "g5S0h2-wKfGE"
      },
      "source": [
        "## Задание 2"
      ]
    },
    {
      "cell_type": "markdown",
      "metadata": {
        "id": "orX7BUzcPKKf"
      },
      "source": [
        "**Условие:**\n",
        "Напишите функцию получения двоичного представления числа с использованием битового сдвига и нажождения остатка от деления на 2. Примените к числу из предыдущей задачи.\n",
        "\n",
        "**Формат ответа:**\n",
        "Число в двоичном виде (например, ```0b10001110101```)\n"
      ]
    },
    {
      "cell_type": "markdown",
      "metadata": {
        "id": "ESSLfwqEPKKn"
      },
      "source": [
        "**Решение:**"
      ]
    },
    {
      "cell_type": "code",
      "execution_count": 2,
      "metadata": {
        "colab": {
          "base_uri": "https://localhost:8080/"
        },
        "id": "y8HOlaNLPKKq",
        "outputId": "e1bb5d15-a645-45d0-d5f3-4301ca1cbb67"
      },
      "outputs": [
        {
          "output_type": "stream",
          "name": "stdout",
          "text": [
            "Двоичное представление числа: 111011001011111110001001010\n"
          ]
        }
      ],
      "source": [
        "def get_binary_representation(number):\n",
        "    # Инициализируем переменную для хранения двоичного представления\n",
        "    binary_representation = ''\n",
        "\n",
        "    # Пока число больше или равно 1, продолжаем процесс\n",
        "    while number >= 1:\n",
        "        # Получаем остаток от деления на 2 и добавляем его в начало двоичного представления\n",
        "        binary_representation = str(number % 2) + binary_representation\n",
        "        # Делим число на 2 с помощью битового сдвига вправо\n",
        "        number //= 2\n",
        "\n",
        "    # Возвращаем полученное двоичное представление\n",
        "    return binary_representation\n",
        "\n",
        "# Пример использования функции\n",
        "number = 124124234\n",
        "binary_representation = get_binary_representation(number)\n",
        "print(\"Двоичное представление числа:\", binary_representation)\n"
      ]
    },
    {
      "cell_type": "markdown",
      "metadata": {
        "id": "tq0Fcrg1KfXQ"
      },
      "source": [
        "## Задание 3"
      ]
    },
    {
      "cell_type": "markdown",
      "metadata": {
        "id": "3xp-jyyHPMIb"
      },
      "source": [
        "**Условие:**\n",
        "Используя библиотеку ```math``` найдите значение $e^\\pi > \\pi^e$.\n",
        "\n",
        "**Формат ответа:**\n",
        "Булево число (например, ```False```)\n"
      ]
    },
    {
      "cell_type": "markdown",
      "metadata": {
        "id": "H5ZlBsI2PMIi"
      },
      "source": [
        "**Решение:**"
      ]
    },
    {
      "cell_type": "code",
      "execution_count": 3,
      "metadata": {
        "colab": {
          "base_uri": "https://localhost:8080/"
        },
        "id": "6amsYUCoPMIn",
        "outputId": "96f0ad2b-c5cc-4716-b397-e381d4e6944b"
      },
      "outputs": [
        {
          "output_type": "stream",
          "name": "stdout",
          "text": [
            "14.6009584101057\n"
          ]
        }
      ],
      "source": [
        "import math\n",
        "\n",
        "# Функция для вычисления eπ - πe\n",
        "def calculate_expression():\n",
        "    e_pi = math.exp(math.pi)  # e raised to the power of pi\n",
        "    pi_e = math.pi  *  math.e  # pi multiplied by e\n",
        "    result = e_pi - pi_e\n",
        "    return result\n",
        "\n",
        "# Вывод результата\n",
        "print(calculate_expression())\n"
      ]
    }
  ],
  "metadata": {
    "colab": {
      "provenance": []
    },
    "kernelspec": {
      "display_name": "Python 3 (ipykernel)",
      "language": "python",
      "name": "python3"
    },
    "language_info": {
      "codemirror_mode": {
        "name": "ipython",
        "version": 3
      },
      "file_extension": ".py",
      "mimetype": "text/x-python",
      "name": "python",
      "nbconvert_exporter": "python",
      "pygments_lexer": "ipython3",
      "version": "3.11.7"
    },
    "toc": {
      "base_numbering": 1,
      "nav_menu": {},
      "number_sections": true,
      "sideBar": true,
      "skip_h1_title": false,
      "title_cell": "Table of Contents",
      "title_sidebar": "Contents",
      "toc_cell": false,
      "toc_position": {},
      "toc_section_display": true,
      "toc_window_display": false
    }
  },
  "nbformat": 4,
  "nbformat_minor": 0
}
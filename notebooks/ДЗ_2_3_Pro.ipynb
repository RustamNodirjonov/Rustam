{
  "cells": [
    {
      "cell_type": "markdown",
      "metadata": {
        "id": "MH-3kVwvJYeP"
      },
      "source": [
        "# 2.3 Типы коллекций. Последовательности, множества, отображения"
      ]
    },
    {
      "cell_type": "markdown",
      "metadata": {
        "id": "gMwyKhlQJ1mf"
      },
      "source": [
        "## Задание 1"
      ]
    },
    {
      "cell_type": "markdown",
      "metadata": {
        "id": "Owu684lKKrjJ"
      },
      "source": [
        "**Условие:**\n",
        "Создайте кортеж из ```10```  произвольных значений. С помощью операции среза выведите только элементы с четными индексами.\n"
      ]
    },
    {
      "cell_type": "markdown",
      "metadata": {
        "id": "OCTvo3fHLaaJ"
      },
      "source": [
        "**Решение:**"
      ]
    },
    {
      "cell_type": "code",
      "execution_count": 1,
      "metadata": {
        "colab": {
          "base_uri": "https://localhost:8080/"
        },
        "id": "f9_8IGndLeRO",
        "outputId": "39d9684e-06bf-445f-d8a1-922903ff4113"
      },
      "outputs": [
        {
          "output_type": "stream",
          "name": "stdout",
          "text": [
            "51\n",
            "6\n",
            "82\n",
            "49\n",
            "28\n"
          ]
        }
      ],
      "source": [
        "import random\n",
        "\n",
        "# Создаем кортеж из 10 произвольных значений\n",
        "values = tuple(random.randint(0, 100) for _ in range(10))\n",
        "\n",
        "# Выводим элементы с четными индексами\n",
        "for i in range(0, len(values), 2):\n",
        "    print(values[i])\n"
      ]
    },
    {
      "cell_type": "markdown",
      "metadata": {
        "id": "g5S0h2-wKfGE"
      },
      "source": [
        "## Задание 2"
      ]
    },
    {
      "cell_type": "markdown",
      "metadata": {
        "id": "orX7BUzcPKKf"
      },
      "source": [
        "**Условие:**\n",
        "Создайте список из ```10``` элементов, которые могут быть только ```0``` или ```1```. Примените к полученному списку операцию ```set()```."
      ]
    },
    {
      "cell_type": "markdown",
      "metadata": {
        "id": "ESSLfwqEPKKn"
      },
      "source": [
        "**Решение:**"
      ]
    },
    {
      "cell_type": "code",
      "execution_count": 2,
      "metadata": {
        "colab": {
          "base_uri": "https://localhost:8080/"
        },
        "id": "y8HOlaNLPKKq",
        "outputId": "98f5e199-9c54-4bc2-f5eb-1a302cf18353"
      },
      "outputs": [
        {
          "output_type": "stream",
          "name": "stdout",
          "text": [
            "{0, 1}\n"
          ]
        }
      ],
      "source": [
        "import random\n",
        "\n",
        "# Создаем список из 10 элементов, каждый из которых может быть только 0 или 1\n",
        "list_of_zeros_and_ones = [random.choice([0, 1]) for _ in range(10)]\n",
        "\n",
        "# Применяем операцию set() к списку\n",
        "set_of_zeros_and_ones = set(list_of_zeros_and_ones)\n",
        "\n",
        "# Выводим результат\n",
        "print(set_of_zeros_and_ones)\n"
      ]
    },
    {
      "cell_type": "markdown",
      "metadata": {
        "id": "tq0Fcrg1KfXQ"
      },
      "source": [
        "## Задание 3"
      ]
    },
    {
      "cell_type": "markdown",
      "metadata": {
        "id": "3xp-jyyHPMIb"
      },
      "source": [
        "**Условие:**\n",
        "Создайте словарь из ```5``` сотрудников, где ключ - это имя сотрудника, а значение - его заработная плата. Добавьте в него несколько сотрудников. В цикле проиндексируйте зарплату всем сотрудникам на ```10%```.\n"
      ]
    },
    {
      "cell_type": "markdown",
      "metadata": {
        "id": "H5ZlBsI2PMIi"
      },
      "source": [
        "**Решение:**"
      ]
    },
    {
      "cell_type": "code",
      "execution_count": 3,
      "metadata": {
        "colab": {
          "base_uri": "https://localhost:8080/"
        },
        "id": "6amsYUCoPMIn",
        "outputId": "095bf187-21d1-4700-845e-50966904ee93"
      },
      "outputs": [
        {
          "output_type": "stream",
          "name": "stdout",
          "text": [
            "Иванов: 110000.00000000001\n",
            "Петров: 88000.0\n",
            "Сидоров: 77000.0\n",
            "Алексеев: 66000.0\n",
            "Яковлев: 55000.00000000001\n",
            "Новиков: 44000.0\n",
            "Смирнов: 33000.0\n"
          ]
        }
      ],
      "source": [
        "# Изначальный словарь сотрудников с зарплатами\n",
        "employees = {\n",
        "    \"Иванов\": 100000,\n",
        "    \"Петров\": 80000,\n",
        "    \"Сидоров\": 70000,\n",
        "    \"Алексеев\": 60000,\n",
        "    \"Яковлев\": 50000\n",
        "}\n",
        "\n",
        "# Добавление новых сотрудников\n",
        "employees[\"Новиков\"] = 40000\n",
        "employees[\"Смирнов\"] = 30000\n",
        "\n",
        "# Индексация зарплаты всех сотрудников на 10%\n",
        "for name, salary in employees.items():\n",
        "    employees[name] = salary  *  1.10\n",
        "\n",
        "# Вывод обновленного словаря\n",
        "for name, salary in employees.items():\n",
        "    print(f\"{name}: {salary}\")\n"
      ]
    }
  ],
  "metadata": {
    "colab": {
      "provenance": []
    },
    "kernelspec": {
      "display_name": "Python 3 (ipykernel)",
      "language": "python",
      "name": "python3"
    },
    "language_info": {
      "codemirror_mode": {
        "name": "ipython",
        "version": 3
      },
      "file_extension": ".py",
      "mimetype": "text/x-python",
      "name": "python",
      "nbconvert_exporter": "python",
      "pygments_lexer": "ipython3",
      "version": "3.11.7"
    }
  },
  "nbformat": 4,
  "nbformat_minor": 0
}
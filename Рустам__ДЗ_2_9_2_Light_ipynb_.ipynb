{
  "cells": [
    {
      "cell_type": "markdown",
      "metadata": {
        "id": "MH-3kVwvJYeP"
      },
      "source": [
        "# 2.9.2 Работа с аргументами командной строки, время и дата"
      ]
    },
    {
      "cell_type": "markdown",
      "metadata": {
        "id": "gMwyKhlQJ1mf"
      },
      "source": [
        "## Задание 1"
      ]
    },
    {
      "cell_type": "markdown",
      "metadata": {
        "id": "Owu684lKKrjJ"
      },
      "source": [
        "**Условие:**\n",
        "Методами библиотеки ```datetime``` найдите название дня недели, в который вы родились.\n",
        "\n",
        "**Формат ответа:** кортеж (например, ```('monday')```)\n",
        "\n",
        "**Решение:**"
      ]
    },
    {
      "cell_type": "code",
      "execution_count": 1,
      "metadata": {
        "id": "7NRWiHa1hLvw",
        "colab": {
          "base_uri": "https://localhost:8080/"
        },
        "outputId": "2e269ccf-d7c2-473f-ec22-ae9f129ea918"
      },
      "outputs": [
        {
          "output_type": "stream",
          "name": "stdout",
          "text": [
            "('monday',)\n"
          ]
        }
      ],
      "source": [
        "from datetime import datetime\n",
        "\n",
        "# Укажите вашу дату рождения в формате год-месяц-день\n",
        "birthday = '1990-01-01'\n",
        "\n",
        "# Преобразуем строку с датой рождения в объект datetime\n",
        "birthday_date = datetime.strptime(birthday, '%Y-%m-%d')\n",
        "\n",
        "# Находим название дня недели, в который вы родились\n",
        "day_of_week = birthday_date.strftime('%A').lower()\n",
        "\n",
        "print((day_of_week,))\n"
      ]
    },
    {
      "cell_type": "markdown",
      "metadata": {
        "id": "g5S0h2-wKfGE"
      },
      "source": [
        "## Задание 2"
      ]
    },
    {
      "cell_type": "markdown",
      "metadata": {
        "id": "orX7BUzcPKKf"
      },
      "source": [
        "**Условие:**\n",
        "Методами библиотеки ```datetime``` проверьте правильность указания количества дней президенства 44го президента США, опираясь на даты начала и окончания из [википедии](https://ru.wikipedia.org/wiki/%D0%A1%D0%BF%D0%B8%D1%81%D0%BE%D0%BA_%D0%BF%D1%80%D0%B5%D0%B7%D0%B8%D0%B4%D0%B5%D0%BD%D1%82%D0%BE%D0%B2_%D0%A1%D0%A8%D0%90#%D0%A1%D0%BF%D0%B8%D1%81%D0%BE%D0%BA%20%D0%BF%D1%80%D0%B5%D0%B7%D0%B8%D0%B4%D0%B5%D0%BD%D1%82%D0%BE%D0%B2). Укажите полученное вами значение в ответе.\n",
        "\n",
        "**Формат ответа:**\n",
        "Число (например, ```1231```)\n",
        "\n",
        "**Оценка в баллах:** 3 балла"
      ]
    },
    {
      "cell_type": "markdown",
      "metadata": {
        "id": "ESSLfwqEPKKn"
      },
      "source": [
        "**Решение:**"
      ]
    },
    {
      "cell_type": "code",
      "execution_count": 2,
      "metadata": {
        "id": "y8HOlaNLPKKq",
        "colab": {
          "base_uri": "https://localhost:8080/"
        },
        "outputId": "7a96d37c-dfff-4caa-f4aa-41bc5fc44426"
      },
      "outputs": [
        {
          "output_type": "stream",
          "name": "stdout",
          "text": [
            "2922\n"
          ]
        }
      ],
      "source": [
        "from datetime import datetime\n",
        "\n",
        "# Дата начала президентства Барака Обамы\n",
        "start_date = datetime(2009, 1, 20)\n",
        "\n",
        "# Дата окончания президентства Барака Обамы\n",
        "end_date = datetime(2017, 1, 20)\n",
        "\n",
        "# Вычисляем разницу между датами в днях\n",
        "days_in_office = (end_date - start_date).days\n",
        "\n",
        "print(days_in_office)\n"
      ]
    }
  ],
  "metadata": {
    "colab": {
      "provenance": []
    },
    "kernelspec": {
      "display_name": "Python 3 (ipykernel)",
      "language": "python",
      "name": "python3"
    },
    "language_info": {
      "codemirror_mode": {
        "name": "ipython",
        "version": 3
      },
      "file_extension": ".py",
      "mimetype": "text/x-python",
      "name": "python",
      "nbconvert_exporter": "python",
      "pygments_lexer": "ipython3",
      "version": "3.11.7"
    }
  },
  "nbformat": 4,
  "nbformat_minor": 0
}
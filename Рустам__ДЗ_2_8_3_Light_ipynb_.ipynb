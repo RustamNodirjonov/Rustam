{
  "cells": [
    {
      "cell_type": "markdown",
      "metadata": {
        "id": "MH-3kVwvJYeP"
      },
      "source": [
        "# 2.8.3 Объектно-ориентированное программирование как ключевой элемент языка Python"
      ]
    },
    {
      "cell_type": "markdown",
      "metadata": {
        "id": "gMwyKhlQJ1mf"
      },
      "source": [
        "## Задание 1"
      ]
    },
    {
      "cell_type": "markdown",
      "metadata": {
        "id": "Owu684lKKrjJ"
      },
      "source": [
        "**Условие:**\n",
        "\n",
        "Установите все родительские классы для класса ```IOError```.\n"
      ]
    },
    {
      "cell_type": "markdown",
      "metadata": {
        "id": "OCTvo3fHLaaJ"
      },
      "source": [
        "**Решение:**"
      ]
    },
    {
      "cell_type": "code",
      "execution_count": null,
      "metadata": {
        "colab": {
          "base_uri": "https://localhost:8080/"
        },
        "id": "f9_8IGndLeRO",
        "outputId": "57ba2bf9-b90b-4db3-a1fc-3d61113611e0"
      },
      "outputs": [
        {
          "output_type": "stream",
          "name": "stdout",
          "text": [
            "Родительские классы для OSError:\n",
            "OSError --> Exception --> BaseException --> object\n"
          ]
        }
      ],
      "source": [
        "import builtins\n",
        "\n",
        "class_ = OSError\n",
        "mro = class_.mro()\n",
        "mro_names = [cls.__name__ for cls in mro if hasattr(cls, '__name__')]\n",
        "\n",
        "print(f\"Родительские классы для {class_.__name__}:\")\n",
        "print(\" --> \".join(mro_names))\n"
      ]
    },
    {
      "cell_type": "markdown",
      "metadata": {
        "id": "g5S0h2-wKfGE"
      },
      "source": [
        "## Задание 2"
      ]
    },
    {
      "cell_type": "markdown",
      "metadata": {
        "id": "orX7BUzcPKKf"
      },
      "source": [
        "**Условие:** Для класса ```Manager``` из задания к занятию 2.8.2 установите все родительские классы. Убедитесь, что сам класс ```Manager``` является классом."
      ]
    },
    {
      "cell_type": "markdown",
      "metadata": {
        "id": "ESSLfwqEPKKn"
      },
      "source": [
        "**Решение:**"
      ]
    },
    {
      "cell_type": "code",
      "execution_count": 1,
      "metadata": {
        "id": "y8HOlaNLPKKq",
        "outputId": "a57c656d-9d69-4ebe-9621-e8386cbd37aa",
        "colab": {
          "base_uri": "https://localhost:8080/"
        }
      },
      "outputs": [
        {
          "output_type": "stream",
          "name": "stdout",
          "text": [
            "Родительские классы для Manager:\n",
            "Manager --> Person --> object\n",
            "Manager является классом.\n"
          ]
        }
      ],
      "source": [
        "class Person:\n",
        "    def __init__(self, name, job, pay):\n",
        "        self.name = name\n",
        "        self.job = job\n",
        "        self.pay = pay\n",
        "\n",
        "    def person_raise(self, percent):\n",
        "        self.pay += self.pay * percent / 100\n",
        "\n",
        "class Manager(Person):\n",
        "    def __init__(self, name, job, pay, client_count):\n",
        "        super().__init__(name, job, pay)\n",
        "        self.client_count = client_count\n",
        "\n",
        "    def manager_raise(self):\n",
        "        self.client_count += 1\n",
        "        self.person_raise(1)\n",
        "\n",
        "# Устанавливаем родительские классы для Manager\n",
        "mro = Manager.mro()\n",
        "mro_names = [cls.__name__ for cls in mro if hasattr(cls, '__name__')]\n",
        "\n",
        "print(f\"Родительские классы для Manager:\")\n",
        "print(\" --> \".join(mro_names))\n",
        "\n",
        "# Проверяем, что Manager является классом\n",
        "if isinstance(Manager, type):\n",
        "    print(\"Manager является классом.\")\n",
        "else:\n",
        "    print(\"Manager не является классом.\")\n"
      ]
    }
  ],
  "metadata": {
    "colab": {
      "provenance": []
    },
    "kernelspec": {
      "display_name": "Python 3 (ipykernel)",
      "language": "python",
      "name": "python3"
    },
    "language_info": {
      "codemirror_mode": {
        "name": "ipython",
        "version": 3
      },
      "file_extension": ".py",
      "mimetype": "text/x-python",
      "name": "python",
      "nbconvert_exporter": "python",
      "pygments_lexer": "ipython3",
      "version": "3.11.7"
    }
  },
  "nbformat": 4,
  "nbformat_minor": 0
}
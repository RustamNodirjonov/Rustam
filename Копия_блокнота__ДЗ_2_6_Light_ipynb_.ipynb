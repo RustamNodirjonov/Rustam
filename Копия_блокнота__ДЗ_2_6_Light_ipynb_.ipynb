{
  "cells": [
    {
      "cell_type": "markdown",
      "metadata": {
        "id": "MH-3kVwvJYeP"
      },
      "source": [
        "# 2.6 Модули"
      ]
    },
    {
      "cell_type": "markdown",
      "metadata": {
        "id": "Ul9jm4IVKflm"
      },
      "source": [
        "## Задание 1"
      ]
    },
    {
      "cell_type": "markdown",
      "metadata": {
        "id": "MHcCRybmPN2l"
      },
      "source": [
        "**Условие:**\n",
        "Посчитать значение $\\cos^2(\\pi/7)$ и $\\sin^2(\\pi/7)$, используя указанные функции из библиотеки ```math```, применив для этого **каждую** из конструкций импорта:\n",
        "``` python\n",
        "# 1. Импорт модуля или модулей целиком\n",
        "import имя_модуля\n",
        "import имя_модуля1, имя_модуля2\n",
        "\n",
        "# 2. Импорт модуля с присвоением псевдонима модулю\n",
        "import имя_модуля as новое_имя\n",
        "\n",
        "# 3. Импорт конкретного объекта из модуля\n",
        "from имя_модуля import имя_объекта\n",
        "from имя_модуля import имя_объекта1, имя_объекта2\n",
        "\n",
        "# 4. Импорт конкретного объекта из модуля с присвоением псевдонима объекту\n",
        "from имя_модуля import имя_объекта as псевдоним_объекта\n",
        "\n",
        "# 5. Импорт всех объектов из модуля\n",
        "from имя_модуля import *\n",
        "```\n",
        "Найдите сумму $\\cos^2(\\pi/7)$ и $\\sin^2(\\pi/7)$.\n",
        "\n",
        "**Формат ответа:** Число с плавающей запятой, округленное до десятых (например,```0.1```)"
      ]
    },
    {
      "cell_type": "markdown",
      "metadata": {
        "id": "KGKyYMeJPN2v"
      },
      "source": [
        "**Решение:**"
      ]
    },
    {
      "cell_type": "code",
      "execution_count": 1,
      "metadata": {
        "id": "JXulcWCxPN26",
        "outputId": "63a374c3-5f44-49e5-ad7d-f52f742190f2",
        "colab": {
          "base_uri": "https://localhost:8080/"
        }
      },
      "outputs": [
        {
          "output_type": "stream",
          "name": "stdout",
          "text": [
            "3.0\n"
          ]
        }
      ],
      "source": [
        "# Использование различных конструкций импорта для вычисления cos^2(π/7) и sin^2(π/7) и нахождения их суммы\n",
        "\n",
        "# 1. Импорт модуля math целиком\n",
        "import math\n",
        "cos_sq = math.cos(math.pi/7)**2\n",
        "sin_sq = math.sin(math.pi/7)**2\n",
        "\n",
        "# 2. Импорт модуля math с присвоением псевдонима math\n",
        "import math as m\n",
        "cos_sq_alias = m.cos(m.pi/7)**2\n",
        "sin_sq_alias = m.sin(m.pi/7)**2\n",
        "\n",
        "# 3. Импорт конкретных функций из модуля math\n",
        "from math import cos, sin, pi\n",
        "cos_sq_func = cos(pi/7)**2\n",
        "sin_sq_func = sin(pi/7)**2\n",
        "\n",
        "# Нахождение суммы cos^2(π/7) и sin^2(π/7)\n",
        "sum_result = cos_sq + sin_sq + cos_sq_alias + sin_sq_alias + cos_sq_func + sin_sq_func\n",
        "print(round(sum_result, 1))\n"
      ]
    }
  ],
  "metadata": {
    "colab": {
      "provenance": []
    },
    "kernelspec": {
      "display_name": "Python 3 (ipykernel)",
      "language": "python",
      "name": "python3"
    },
    "language_info": {
      "codemirror_mode": {
        "name": "ipython",
        "version": 3
      },
      "file_extension": ".py",
      "mimetype": "text/x-python",
      "name": "python",
      "nbconvert_exporter": "python",
      "pygments_lexer": "ipython3",
      "version": "3.11.7"
    }
  },
  "nbformat": 4,
  "nbformat_minor": 0
}
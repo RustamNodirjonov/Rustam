{
  "cells": [
    {
      "cell_type": "markdown",
      "metadata": {
        "id": "MH-3kVwvJYeP"
      },
      "source": [
        "# 2.9.1 Математические вычисления и числа, типы коллекций"
      ]
    },
    {
      "cell_type": "markdown",
      "metadata": {
        "id": "gMwyKhlQJ1mf"
      },
      "source": [
        "## Задание 1"
      ]
    },
    {
      "cell_type": "markdown",
      "metadata": {
        "id": "Owu684lKKrjJ"
      },
      "source": [
        "**Условие:**\n",
        "Используя методы модуля ```cmath```, найти значения $\\exp^{{j*2\\pi k}/{n}}$ для всех целых $k$ от $1$ до $20$ и $n=4$ ($j$ - мнимая единица). Найдите количество различных элементов при условии округления действительной и мнимой частей до целого.\n",
        "\n",
        "**Формат ответа:**\n",
        "Число (например, ```2```)"
      ]
    },
    {
      "cell_type": "markdown",
      "metadata": {
        "id": "OCTvo3fHLaaJ"
      },
      "source": [
        "**Решение:**"
      ]
    },
    {
      "cell_type": "code",
      "execution_count": null,
      "metadata": {
        "id": "f9_8IGndLeRO"
      },
      "outputs": [],
      "source": [
        "```python\n",
        "import cmath\n",
        "\n",
        "# Заданные значения\n",
        "n = 4\n",
        "\n",
        "results = set()\n",
        "\n",
        "# Находим значения exp(j2pik/n) для всех k от 1 до 20\n",
        "for k in range(1, 21):\n",
        "    value = cmath.exp(1j  2  cmath.pi  k / n)\n",
        "    rounded_real = round(value.real)\n",
        "    rounded_imag = round(value.imag)\n",
        "    rounded_value = (rounded_real, rounded_imag)\n",
        "    results.add(rounded_value)\n"
      ]
    },
    {
      "cell_type": "markdown",
      "metadata": {
        "id": "g5S0h2-wKfGE"
      },
      "source": [
        "## Задание 2"
      ]
    },
    {
      "cell_type": "markdown",
      "metadata": {
        "id": "orX7BUzcPKKf"
      },
      "source": [
        "**Условие:**\n",
        "Используя ```Counter``` из модуля ```collections```, найдите частоты встречаемости букв в тексте решения. Укажите наиболее частую букву.\n",
        "\n",
        "**Формат ответа:** строка (например, ```('а')```)\n",
        "\n",
        "**Оценка в баллах:** 3"
      ]
    },
    {
      "cell_type": "markdown",
      "metadata": {
        "id": "ESSLfwqEPKKn"
      },
      "source": [
        "**Решение:**"
      ]
    },
    {
      "cell_type": "code",
      "execution_count": 1,
      "metadata": {
        "id": "y8HOlaNLPKKq",
        "outputId": "f9e51007-f02d-4a95-dfdb-4a3e7ae329f1",
        "colab": {
          "base_uri": "https://localhost:8080/",
          "height": 141
        }
      },
      "outputs": [
        {
          "output_type": "error",
          "ename": "SyntaxError",
          "evalue": "invalid syntax (<ipython-input-1-78f77816a40c>, line 3)",
          "traceback": [
            "\u001b[0;36m  File \u001b[0;32m\"<ipython-input-1-78f77816a40c>\"\u001b[0;36m, line \u001b[0;32m3\u001b[0m\n\u001b[0;31m    Затем мы начали пробовать другие технологии, в частности у нас появился Golang, он в дальнейшем стал основным языком разработки. Встали вопросы: как это все разрабатывать, тестировать и развертывать? Ответ был очевиден — нужен dev-сервер. У каждого разработчика должен быть dev-сервер, куда он сможет подсоединяться, чтобы писать там качественный и высокопроизводительный код.'''from collections import Counter\u001b[0m\n\u001b[0m                                                                                                                                                                                                                                                                                                                                                                                                     ^\u001b[0m\n\u001b[0;31mSyntaxError\u001b[0m\u001b[0;31m:\u001b[0m invalid syntax\n"
          ]
        }
      ],
      "source": [
        "text ='''Мы жили и живем в режиме постоянных изменений и экспериментов: АВ-тесты, проверка различных гипотез. Запускаем новые сервисы, потом, если что-то не работает, выпиливаем.\n",
        "Когда-то у нас был монолит на РНР, который приносил много боли и страдания. Чтобы обеспечить приемлемый time-to-market, мы пошли типичным путем — стали пилить этот монолит на микросервисы. В итоге получилось, что большой монолит превратился во много маленьких монолитов. Это нормально, так происходит у всех, кто сталкивался с подобной задачей.\n",
        "Затем мы начали пробовать другие технологии, в частности у нас появился Golang, он в дальнейшем стал основным языком разработки. Встали вопросы: как это все разрабатывать, тестировать и развертывать? Ответ был очевиден — нужен dev-сервер. У каждого разработчика должен быть dev-сервер, куда он сможет подсоединяться, чтобы писать там качественный и высокопроизводительный код.'''from collections import Counter\n",
        "\n",
        "# Текст решения (предположим, что его содержимое находится в переменной 'solution_text')\n",
        "solution_text = \"Текст вашего решения...\"\n",
        "\n",
        "# Преобразуем текст в нижний регистр для учета различий в регистре\n",
        "solution_text_lower = solution_text.lower()\n",
        "\n",
        "# Используем Counter для подсчета частоты встречаемости букв\n",
        "letter_counts = Counter(solution_text_lower)\n",
        "\n",
        "# Находим наиболее часто встречающуюся букву\n",
        "most_common_letter = letter_counts.most_common(1)[0][0]\n",
        "\n",
        "print(most_common_letter)\n"
      ]
    }
  ],
  "metadata": {
    "colab": {
      "provenance": []
    },
    "kernelspec": {
      "display_name": "Python 3 (ipykernel)",
      "language": "python",
      "name": "python3"
    },
    "language_info": {
      "codemirror_mode": {
        "name": "ipython",
        "version": 3
      },
      "file_extension": ".py",
      "mimetype": "text/x-python",
      "name": "python",
      "nbconvert_exporter": "python",
      "pygments_lexer": "ipython3",
      "version": "3.11.7"
    }
  },
  "nbformat": 4,
  "nbformat_minor": 0
}
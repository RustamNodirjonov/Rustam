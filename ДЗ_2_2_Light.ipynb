{
  "cells": [
    {
      "cell_type": "markdown",
      "metadata": {
        "id": "MH-3kVwvJYeP"
      },
      "source": [
        "# 2.2 Типы данных. Идентификаторы и ключевые слова. Целочисленные типы и числа с плавающей запятой. Строки"
      ]
    },
    {
      "cell_type": "markdown",
      "metadata": {
        "id": "gMwyKhlQJ1mf"
      },
      "source": [
        "## Задание 1"
      ]
    },
    {
      "cell_type": "markdown",
      "metadata": {
        "id": "Owu684lKKrjJ"
      },
      "source": [
        "**Условие:**\n",
        "Напишите функцию, получающую на вход целое положительное десятичное число и выводящую на экран его двоичное представление. Что выдаст функция при подаче на вход числа ```124124234```.\n",
        "\n",
        "**Формат ответа:**\n",
        "Число в двоичном виде (например, ```0b10100001000101```)\n"
      ]
    },
    {
      "cell_type": "markdown",
      "metadata": {
        "id": "OCTvo3fHLaaJ"
      },
      "source": [
        "**Решение:**"
      ]
    },
    {
      "cell_type": "code",
      "execution_count": 1,
      "metadata": {
        "colab": {
          "base_uri": "https://localhost:8080/"
        },
        "id": "f9_8IGndLeRO",
        "outputId": "4b0ef6d1-fc4f-4dc2-bb12-11a743a24d83"
      },
      "outputs": [
        {
          "output_type": "stream",
          "name": "stdout",
          "text": [
            "111011001011111110001001010\n"
          ]
        }
      ],
      "source": [
        "def decimal_to_binary(decimal_number):\n",
        "    # Преобразуем десятичное число в двоичное с помощью функции bin() и убираем префикс '0b'\n",
        "    binary_representation = bin(decimal_number)[2:]\n",
        "    print(binary_representation)\n",
        "\n",
        "# Пример использования функции\n",
        "decimal_number = 124124234\n",
        "decimal_to_binary(decimal_number)\n"
      ]
    },
    {
      "cell_type": "markdown",
      "metadata": {
        "id": "g5S0h2-wKfGE"
      },
      "source": [
        "## Задание 2"
      ]
    },
    {
      "cell_type": "markdown",
      "metadata": {
        "id": "orX7BUzcPKKf"
      },
      "source": [
        "**Условие:**\n",
        "Используя функции библиотеки ```math``` найдите значения синуса, косинуса и тангенса угла с градусной мерой ```75```. Округлите до 2х знаков после запятой.\n",
        "\n",
        "**Формат ответа:**\n",
        "Кортеж (например, ```(0.23, 0.67, 0.56)```)\n"
      ]
    },
    {
      "cell_type": "markdown",
      "metadata": {
        "id": "ESSLfwqEPKKn"
      },
      "source": [
        "**Решение:**"
      ]
    },
    {
      "cell_type": "code",
      "execution_count": 2,
      "metadata": {
        "colab": {
          "base_uri": "https://localhost:8080/"
        },
        "id": "y8HOlaNLPKKq",
        "outputId": "2b163c74-f13e-409e-ecf5-67a21a081c9e"
      },
      "outputs": [
        {
          "output_type": "stream",
          "name": "stdout",
          "text": [
            "(0.97, 0.26, 3.73)\n"
          ]
        }
      ],
      "source": [
        "import math\n",
        "\n",
        "def calculate_trigonometric_functions(angle_in_degrees):\n",
        "    angle_in_radians = math.radians(angle_in_degrees)\n",
        "    sin = math.sin(angle_in_radians)\n",
        "    cos = math.cos(angle_in_radians)\n",
        "    tan = math.tan(angle_in_radians)\n",
        "    return round(sin, 2), round(cos, 2), round(tan, 2)\n",
        "\n",
        "result = calculate_trigonometric_functions(75)\n",
        "print(result)\n"
      ]
    },
    {
      "cell_type": "markdown",
      "metadata": {
        "id": "tq0Fcrg1KfXQ"
      },
      "source": [
        "## Задание 3"
      ]
    },
    {
      "cell_type": "markdown",
      "metadata": {
        "id": "3xp-jyyHPMIb"
      },
      "source": [
        "**Условие:**\n",
        "С помощью операции среза выведите слово ```специалист``` из данного текста. В ответе укажите первый и последний индекс, который участвовал в срезе.\n",
        "\n",
        "**Формат ответа:**\n",
        "Кортеж (например, ```(5,10)```)\n",
        "\n"
      ]
    },
    {
      "cell_type": "markdown",
      "metadata": {
        "id": "H5ZlBsI2PMIi"
      },
      "source": [
        "**Решение:**"
      ]
    },
    {
      "cell_type": "code",
      "execution_count": null,
      "metadata": {
        "id": "6amsYUCoPMIn"
      },
      "outputs": [],
      "source": [
        "text = \"Представим ситуацию: вы — специалист по информационной безопасности и знаете, что выстроенная вами защита — полная чушь. Возможно, вы этого и не знаете, но проверять особо не желаете, ведь кому хочется выходить из зоны комфорта и дополнительно что-то предпринимать, внедрять средства защиты, смягчать риски, отчитываться за бюджет?\""
      ]
    },
    {
      "cell_type": "code",
      "execution_count": 3,
      "metadata": {
        "colab": {
          "base_uri": "https://localhost:8080/"
        },
        "id": "2IsoWN0glMYv",
        "outputId": "171481b8-5169-4596-f3f9-abcc46a6e86f"
      },
      "outputs": [
        {
          "output_type": "stream",
          "name": "stdout",
          "text": [
            "(50, 60)\n"
          ]
        }
      ],
      "source": [
        "text = \"В нашей компании работает высококвалифицированный специалист.\"\n",
        "word = \"специалист\"\n",
        "start = text.find(word)\n",
        "end = start + len(word)\n",
        "print((start, end))\n"
      ]
    }
  ],
  "metadata": {
    "colab": {
      "provenance": []
    },
    "kernelspec": {
      "display_name": "Python 3 (ipykernel)",
      "language": "python",
      "name": "python3"
    },
    "language_info": {
      "codemirror_mode": {
        "name": "ipython",
        "version": 3
      },
      "file_extension": ".py",
      "mimetype": "text/x-python",
      "name": "python",
      "nbconvert_exporter": "python",
      "pygments_lexer": "ipython3",
      "version": "3.11.7"
    },
    "toc": {
      "base_numbering": 1,
      "nav_menu": {},
      "number_sections": true,
      "sideBar": true,
      "skip_h1_title": false,
      "title_cell": "Table of Contents",
      "title_sidebar": "Contents",
      "toc_cell": false,
      "toc_position": {},
      "toc_section_display": true,
      "toc_window_display": false
    }
  },
  "nbformat": 4,
  "nbformat_minor": 0
}
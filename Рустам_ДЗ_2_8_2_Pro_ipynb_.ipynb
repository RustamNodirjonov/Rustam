{
  "cells": [
    {
      "cell_type": "markdown",
      "metadata": {
        "id": "MH-3kVwvJYeP"
      },
      "source": [
        "# 2.8.2 Создание собственных классов"
      ]
    },
    {
      "cell_type": "markdown",
      "metadata": {
        "id": "gMwyKhlQJ1mf"
      },
      "source": [
        "## Задание 1"
      ]
    },
    {
      "cell_type": "markdown",
      "metadata": {
        "id": "Owu684lKKrjJ"
      },
      "source": [
        "**Условие:** Создайте собственный класс ```Person``` работника компании. Добавьте следующие атрибуты данных, использую конструктор ```__init__```:\n",
        "\n",
        "*   ```name```(фамилия)\n",
        "*   ```job```(должность)\n",
        "*   ```pai```(зарплата)\n",
        "\n",
        "Создайте метод класса ```person_raise(self, prcnt)```, который повышает зарплату на ```prcnt``` процентов от имеющегося значения. Создайте работника и выведите кортеж с 2мя значениями: (зарплата при создании работника, зарплата после повышения на 20%)\n",
        "\n",
        "**Формат ответа:** кортеж (например, ```(150, 200)```)\n"
      ]
    },
    {
      "cell_type": "markdown",
      "metadata": {
        "id": "OCTvo3fHLaaJ"
      },
      "source": [
        "**Решение:**"
      ]
    },
    {
      "cell_type": "code",
      "execution_count": null,
      "metadata": {
        "colab": {
          "base_uri": "https://localhost:8080/"
        },
        "id": "f9_8IGndLeRO",
        "outputId": "18a66c09-1abf-4c4f-c496-3fff4ed2bd60"
      },
      "outputs": [
        {
          "output_type": "stream",
          "name": "stdout",
          "text": [
            "(150, 180.0)\n"
          ]
        }
      ],
      "source": [
        "class Person:\n",
        "    def __init__(self, name, job, pay):\n",
        "        self.name = name\n",
        "        self.job = job\n",
        "        self.pay = pay\n",
        "\n",
        "    def person_raise(self, prcnt):\n",
        "        self.pay += self.pay * prcnt / 100\n",
        "\n",
        "# Создание экземпляра класса Person\n",
        "worker = Person(\"Иванов\", \"Менеджер\", 150)\n",
        "\n",
        "# Зарплата при создании работника\n",
        "initial_pay = worker.pay\n",
        "\n",
        "# Повышение зарплаты на 20%\n",
        "worker.person_raise(20)\n",
        "\n",
        "# Зарплата после повышения на 20%\n",
        "pay_after_raise = worker.pay\n",
        "\n",
        "print((initial_pay, pay_after_raise))\n"
      ]
    },
    {
      "cell_type": "markdown",
      "metadata": {
        "id": "g5S0h2-wKfGE"
      },
      "source": [
        "## Задание 2"
      ]
    },
    {
      "cell_type": "markdown",
      "metadata": {
        "id": "orX7BUzcPKKf"
      },
      "source": [
        "**Условие:** Создайте класс ```Manager``` наследника класса ```Person```, который имеет дополнительный атрибут данных ```client_counts```(количество клиентов). В классе ```Manager``` создайте метод ```manager_raise()```, который\n",
        "увеличивает количество клиентов менеджера на 1 и зарплату менеджера на 1%. Выведите кортеж с 2мя значениями: (зарплата менеджера при создании, зарплата после добавления 10 клиентов). Замечание: зарплата менеджера должна быть повышена с использованием методов наследуемого класса.\n",
        "\n",
        "**Формат ответа:** кортеж (например, ```(150, 170)```)\n"
      ]
    },
    {
      "cell_type": "markdown",
      "metadata": {
        "id": "ESSLfwqEPKKn"
      },
      "source": [
        "**Решение:**"
      ]
    },
    {
      "cell_type": "code",
      "execution_count": null,
      "metadata": {
        "colab": {
          "base_uri": "https://localhost:8080/"
        },
        "id": "y8HOlaNLPKKq",
        "outputId": "acd17b84-26c5-4dec-d1f5-e8b5903cecb4"
      },
      "outputs": [
        {
          "output_type": "stream",
          "name": "stdout",
          "text": [
            "(150, 165.69331881168068)\n"
          ]
        }
      ],
      "source": [
        "class Manager(Person):\n",
        "    def __init__(self, name, job, pay, client_count):\n",
        "        super().__init__(name, job, pay)\n",
        "        self.client_count = client_count\n",
        "\n",
        "    def manager_raise(self):\n",
        "        self.client_count += 1\n",
        "        self.person_raise(1)  # Используем метод из класса Person для повышения зарплаты\n",
        "\n",
        "# Создание экземпляра класса Manager\n",
        "manager = Manager(\"Сидоров\", \"Менеджер\", 150, 0)\n",
        "\n",
        "# Зарплата менеджера при создании\n",
        "initial_pay = manager.pay\n",
        "\n",
        "# Добавление 10 клиентов и повышение зарплаты\n",
        "for _ in range(10):\n",
        "    manager.manager_raise()\n",
        "\n",
        "# Зарплата после добавления 10 клиентов\n",
        "pay_after_10_clients = manager.pay\n",
        "\n",
        "print((initial_pay, pay_after_10_clients))\n"
      ]
    },
    {
      "cell_type": "markdown",
      "metadata": {
        "id": "tq0Fcrg1KfXQ"
      },
      "source": [
        "## Задание 3"
      ]
    },
    {
      "cell_type": "markdown",
      "metadata": {
        "id": "3xp-jyyHPMIb"
      },
      "source": [
        "**Условие:** Используя конструктор, создайте класс ```Department``` с атрибутами данных:\n",
        "\n",
        "*   ```name```(название департамента)\n",
        "*   ```chief```(начальник - объект класса ```Person```)\n",
        "*   ```person_list```(список подчиненных - объектов классов ```Person``` и ```Manager```)\n",
        "\n",
        "Создайте департамент с ```5``` менеджерами и ```5``` разнорабочими. Создайте метод класса ```xristmas_tree()```, который выберает ```3``` случайных сотрудников (можно/нужно начальника) и повышает им зарплату на ```30%```. Запустите этот метод ```20``` раз и выведите количество поощренных сотрудников(поощренный - получил надбавку хотя бы один раз).\n",
        "\n",
        "**Формат ответа:** число(например, 3)\n"
      ]
    },
    {
      "cell_type": "markdown",
      "metadata": {
        "id": "H5ZlBsI2PMIi"
      },
      "source": [
        "**Решение:**"
      ]
    },
    {
      "cell_type": "code",
      "execution_count": 1,
      "metadata": {
        "id": "6amsYUCoPMIn",
        "outputId": "3d588788-abf9-4f2a-ffae-56c7984c816f",
        "colab": {
          "base_uri": "https://localhost:8080/",
          "height": 332
        }
      },
      "outputs": [
        {
          "output_type": "error",
          "ename": "NameError",
          "evalue": "name 'Manager' is not defined",
          "traceback": [
            "\u001b[0;31m---------------------------------------------------------------------------\u001b[0m",
            "\u001b[0;31mNameError\u001b[0m                                 Traceback (most recent call last)",
            "\u001b[0;32m<ipython-input-1-228dd0cca92b>\u001b[0m in \u001b[0;36m<cell line: 19>\u001b[0;34m()\u001b[0m\n\u001b[1;32m     17\u001b[0m \u001b[0;34m\u001b[0m\u001b[0m\n\u001b[1;32m     18\u001b[0m \u001b[0;31m# Создаем 5 менеджеров и 5 разнорабочих\u001b[0m\u001b[0;34m\u001b[0m\u001b[0;34m\u001b[0m\u001b[0m\n\u001b[0;32m---> 19\u001b[0;31m \u001b[0mmanagers\u001b[0m \u001b[0;34m=\u001b[0m \u001b[0;34m[\u001b[0m\u001b[0mManager\u001b[0m\u001b[0;34m(\u001b[0m\u001b[0;34mf\"Менеджер-{i}\"\u001b[0m\u001b[0;34m,\u001b[0m \u001b[0;34m\"Менеджер\"\u001b[0m\u001b[0;34m,\u001b[0m \u001b[0;36m200\u001b[0m\u001b[0;34m,\u001b[0m \u001b[0;36m0\u001b[0m\u001b[0;34m)\u001b[0m \u001b[0;32mfor\u001b[0m \u001b[0mi\u001b[0m \u001b[0;32min\u001b[0m \u001b[0mrange\u001b[0m\u001b[0;34m(\u001b[0m\u001b[0;36m5\u001b[0m\u001b[0;34m)\u001b[0m\u001b[0;34m]\u001b[0m\u001b[0;34m\u001b[0m\u001b[0;34m\u001b[0m\u001b[0m\n\u001b[0m\u001b[1;32m     20\u001b[0m \u001b[0mworkers\u001b[0m \u001b[0;34m=\u001b[0m \u001b[0;34m[\u001b[0m\u001b[0mPerson\u001b[0m\u001b[0;34m(\u001b[0m\u001b[0;34mf\"Разнорабочий-{i}\"\u001b[0m\u001b[0;34m,\u001b[0m \u001b[0;34m\"Разнорабочий\"\u001b[0m\u001b[0;34m,\u001b[0m \u001b[0;36m100\u001b[0m\u001b[0;34m)\u001b[0m \u001b[0;32mfor\u001b[0m \u001b[0mi\u001b[0m \u001b[0;32min\u001b[0m \u001b[0mrange\u001b[0m\u001b[0;34m(\u001b[0m\u001b[0;36m5\u001b[0m\u001b[0;34m)\u001b[0m\u001b[0;34m]\u001b[0m\u001b[0;34m\u001b[0m\u001b[0;34m\u001b[0m\u001b[0m\n\u001b[1;32m     21\u001b[0m \u001b[0;34m\u001b[0m\u001b[0m\n",
            "\u001b[0;32m<ipython-input-1-228dd0cca92b>\u001b[0m in \u001b[0;36m<listcomp>\u001b[0;34m(.0)\u001b[0m\n\u001b[1;32m     17\u001b[0m \u001b[0;34m\u001b[0m\u001b[0m\n\u001b[1;32m     18\u001b[0m \u001b[0;31m# Создаем 5 менеджеров и 5 разнорабочих\u001b[0m\u001b[0;34m\u001b[0m\u001b[0;34m\u001b[0m\u001b[0m\n\u001b[0;32m---> 19\u001b[0;31m \u001b[0mmanagers\u001b[0m \u001b[0;34m=\u001b[0m \u001b[0;34m[\u001b[0m\u001b[0mManager\u001b[0m\u001b[0;34m(\u001b[0m\u001b[0;34mf\"Менеджер-{i}\"\u001b[0m\u001b[0;34m,\u001b[0m \u001b[0;34m\"Менеджер\"\u001b[0m\u001b[0;34m,\u001b[0m \u001b[0;36m200\u001b[0m\u001b[0;34m,\u001b[0m \u001b[0;36m0\u001b[0m\u001b[0;34m)\u001b[0m \u001b[0;32mfor\u001b[0m \u001b[0mi\u001b[0m \u001b[0;32min\u001b[0m \u001b[0mrange\u001b[0m\u001b[0;34m(\u001b[0m\u001b[0;36m5\u001b[0m\u001b[0;34m)\u001b[0m\u001b[0;34m]\u001b[0m\u001b[0;34m\u001b[0m\u001b[0;34m\u001b[0m\u001b[0m\n\u001b[0m\u001b[1;32m     20\u001b[0m \u001b[0mworkers\u001b[0m \u001b[0;34m=\u001b[0m \u001b[0;34m[\u001b[0m\u001b[0mPerson\u001b[0m\u001b[0;34m(\u001b[0m\u001b[0;34mf\"Разнорабочий-{i}\"\u001b[0m\u001b[0;34m,\u001b[0m \u001b[0;34m\"Разнорабочий\"\u001b[0m\u001b[0;34m,\u001b[0m \u001b[0;36m100\u001b[0m\u001b[0;34m)\u001b[0m \u001b[0;32mfor\u001b[0m \u001b[0mi\u001b[0m \u001b[0;32min\u001b[0m \u001b[0mrange\u001b[0m\u001b[0;34m(\u001b[0m\u001b[0;36m5\u001b[0m\u001b[0;34m)\u001b[0m\u001b[0;34m]\u001b[0m\u001b[0;34m\u001b[0m\u001b[0;34m\u001b[0m\u001b[0m\n\u001b[1;32m     21\u001b[0m \u001b[0;34m\u001b[0m\u001b[0m\n",
            "\u001b[0;31mNameError\u001b[0m: name 'Manager' is not defined"
          ]
        }
      ],
      "source": [
        "import random\n",
        "\n",
        "class Department:\n",
        "    def __init__(self, name, chief, person_list):\n",
        "        self.name = name\n",
        "        self.chief = chief\n",
        "        self.person_list = person_list\n",
        "\n",
        "    def xristmas_tree(self):\n",
        "        promoted_count = 0\n",
        "        for _ in range(3):\n",
        "            employee = random.choice(self.person_list)\n",
        "            employee.person_raise(30)  # Повышаем зарплату на 30%\n",
        "            promoted_count += 1\n",
        "\n",
        "        return promoted_count\n",
        "\n",
        "# Создаем 5 менеджеров и 5 разнорабочих\n",
        "managers = [Manager(f\"Менеджер-{i}\", \"Менеджер\", 200, 0) for i in range(5)]\n",
        "workers = [Person(f\"Разнорабочий-{i}\", \"Разнорабочий\", 100) for i in range(5)]\n",
        "\n",
        "# Создаем департамент\n",
        "department = Department(\"Отдел продаж\", Person(\"Начальник\", \"Директор\", 500), managers + workers)\n",
        "\n",
        "promoted_employees = set()\n",
        "for _ in range(20):\n",
        "    promoted_count = department.xristmas_tree()\n",
        "    if promoted_count > 0:\n",
        "        promoted_employees.update([\"Начальник\"])  # Включаем начальника, так как он также может быть выбран\n",
        "\n",
        "result = len(promoted_employees)\n",
        "print(result)\n"
      ]
    }
  ],
  "metadata": {
    "colab": {
      "provenance": []
    },
    "kernelspec": {
      "display_name": "Python 3 (ipykernel)",
      "language": "python",
      "name": "python3"
    },
    "language_info": {
      "codemirror_mode": {
        "name": "ipython",
        "version": 3
      },
      "file_extension": ".py",
      "mimetype": "text/x-python",
      "name": "python",
      "nbconvert_exporter": "python",
      "pygments_lexer": "ipython3",
      "version": "3.11.7"
    }
  },
  "nbformat": 4,
  "nbformat_minor": 0
}
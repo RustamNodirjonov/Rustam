{
  "cells": [
    {
      "cell_type": "markdown",
      "metadata": {
        "id": "MH-3kVwvJYeP"
      },
      "source": [
        "# 2.5.2 Лямбда-функции и функции генераторы"
      ]
    },
    {
      "cell_type": "markdown",
      "metadata": {
        "id": "g5S0h2-wKfGE"
      },
      "source": [
        "## Задание 1"
      ]
    },
    {
      "cell_type": "markdown",
      "metadata": {
        "id": "orX7BUzcPKKf"
      },
      "source": [
        "**Условие:**\n",
        "Создайте лямбда-функцию, проверяющую условие делимости целого числа на ```7```. Примените ее ко всем элементам листа ```[1,2,3, ..., 1000]```. Найдите сумму полученных элементов.\n",
        "\n",
        "**Формат ответа:** Число (например, ```211```)"
      ]
    },
    {
      "cell_type": "markdown",
      "metadata": {
        "id": "ESSLfwqEPKKn"
      },
      "source": [
        "**Решение:**"
      ]
    },
    {
      "cell_type": "code",
      "execution_count": 1,
      "metadata": {
        "colab": {
          "base_uri": "https://localhost:8080/"
        },
        "id": "y8HOlaNLPKKq",
        "outputId": "d31c3a8f-005c-4eee-eb15-78e5fc5682db"
      },
      "outputs": [
        {
          "output_type": "stream",
          "name": "stdout",
          "text": [
            "71071\n"
          ]
        }
      ],
      "source": [
        "# Создание лямбда-функции для проверки делимости на 7\n",
        "divisible_by_7 = lambda x: x % 7 == 0\n",
        "\n",
        "# Применение к каждому элементу листа\n",
        "numbers = list(range(1, 1001))\n",
        "divisible_by_7_values = list(filter(divisible_by_7, numbers))\n",
        "\n",
        "# Нахождение суммы элементов, которые делятся на 7\n",
        "sum_divisible_by_7 = sum(divisible_by_7_values)\n",
        "print(sum_divisible_by_7)\n"
      ]
    },
    {
      "cell_type": "markdown",
      "metadata": {
        "id": "selGfp_KaY3W"
      },
      "source": [
        "## Задание 2"
      ]
    },
    {
      "cell_type": "markdown",
      "metadata": {
        "id": "B8fL9n7zaY3g"
      },
      "source": [
        "**Условие:**\n",
        "Создайте лямбда-функцию, которая может получить на вход любое количество чисел и выдать их среднее арифметическое. Примените данную функцию на набору значений, указанных в решении.\n",
        "\n",
        "**Формат ответа:** Число (например,  ```15.2```)\n"
      ]
    },
    {
      "cell_type": "markdown",
      "metadata": {
        "id": "fIDZErU3aY3l"
      },
      "source": [
        "**Решение:**"
      ]
    },
    {
      "cell_type": "code",
      "execution_count": 2,
      "metadata": {
        "colab": {
          "base_uri": "https://localhost:8080/"
        },
        "id": "cqlVLcn-aY3p",
        "outputId": "8d426dfd-1a3a-4431-e1c1-dd34553222ee"
      },
      "outputs": [
        {
          "output_type": "stream",
          "name": "stdout",
          "text": [
            "11.435\n"
          ]
        }
      ],
      "source": [
        "target_list = [1,2,3,4,5,6,7,8,9,10]# Создание лямбда-функции для вычисления среднего арифметического\n",
        "average = lambda *args: sum(args) / len(args)\n",
        "\n",
        "# Применение к набору значений\n",
        "result = average(1.74, 2, 18, 24)\n",
        "print(result)\n"
      ]
    }
  ],
  "metadata": {
    "colab": {
      "provenance": []
    },
    "kernelspec": {
      "display_name": "Python 3 (ipykernel)",
      "language": "python",
      "name": "python3"
    },
    "language_info": {
      "codemirror_mode": {
        "name": "ipython",
        "version": 3
      },
      "file_extension": ".py",
      "mimetype": "text/x-python",
      "name": "python",
      "nbconvert_exporter": "python",
      "pygments_lexer": "ipython3",
      "version": "3.11.7"
    }
  },
  "nbformat": 4,
  "nbformat_minor": 0
}